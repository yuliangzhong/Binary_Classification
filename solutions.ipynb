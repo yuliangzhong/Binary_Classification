{
 "cells": [
  {
   "cell_type": "code",
   "execution_count": 1,
   "id": "b9bdaca8-29c5-4b14-96be-3b87c41fc3c4",
   "metadata": {},
   "outputs": [],
   "source": [
    "import numpy as np\n",
    "import pandas as pd\n",
    "\n",
    "import torch\n",
    "import torch.nn as nn\n",
    "import torch.optim as optim\n",
    "from torch.utils.data import Dataset, DataLoader, WeightedRandomSampler\n",
    "\n",
    "from sklearn import svm\n",
    "from sklearn.neural_network import MLPClassifier\n",
    "\n",
    "from sklearn.pipeline import make_pipeline\n",
    "from sklearn.preprocessing import StandardScaler    \n",
    "from sklearn.model_selection import train_test_split\n",
    "from sklearn.metrics import f1_score"
   ]
  },
  {
   "cell_type": "code",
   "execution_count": 2,
   "id": "fc5b33e2-c4fc-4960-aa50-768887096874",
   "metadata": {},
   "outputs": [],
   "source": [
    "# data loading\n",
    "train_csv = pd.read_csv(\"train.csv\")  # 112000*'ABCD' - 0/1\n",
    "predict_csv = pd.read_csv(\"test.csv\") # 48000*'ABCD"
   ]
  },
  {
   "cell_type": "code",
   "execution_count": 3,
   "id": "94961ae9-4cd7-4923-b8b7-be4f63b8d496",
   "metadata": {},
   "outputs": [],
   "source": [
    "# data encoding\n",
    "dict = {'A':0, 'C':1, 'D':2, 'E':3, 'F':4,\n",
    "        'G':5, 'H':6, 'I':7, 'K':8, 'L':9,\n",
    "        'M':10, 'N':11, 'P':12, 'Q':13, 'R':14,\n",
    "        'S':15, 'T':16, 'U':17, 'V':18, 'W':19, 'Y':20}\n",
    "def encoding(data):\n",
    "    results = np.zeros((data.shape[0],21*4))\n",
    "    for i in range(data.shape[0]):\n",
    "        for j in range(4):\n",
    "            results[i][21*j+dict[data[i][j]]] = 1\n",
    "    return results\n",
    "train_x = encoding(train_csv[\"Sequence\"])     # 112000*84 ndarray\n",
    "predict_x = encoding(predict_csv[\"Sequence\"]) #  48000*84 ndarray\n",
    "# labels\n",
    "train_y = train_csv[\"Active\"].values          # 112000*1 ndarray"
   ]
  },
  {
   "cell_type": "code",
   "execution_count": 14,
   "id": "3d3ebbc4-9d41-441e-9ed7-3effae14b405",
   "metadata": {},
   "outputs": [
    {
     "name": "stdout",
     "output_type": "stream",
     "text": [
      "cuda:0\n"
     ]
    }
   ],
   "source": [
    "# config\n",
    "results = np.zeros(predict_x.shape[0])\n",
    "test_split_ratio = 0.2\n",
    "solution = 'NN' # 'SVM','MLP','NN'\n",
    "# for SVM\n",
    "SVC_params = {'C':1.0,'kernel':'rbf','class_weight':'balanced'} # class_weight to tackle imbalanced data\n",
    "# for MLP: ‘logistic’, ‘tanh’, ‘relu’\n",
    "MLP_params = {'activation':'logistic', 'max_iter':500}\n",
    "# for NN\n",
    "zero_weight = 0.2 # smaller, more likely to select 1\n",
    "input_nodes = 84 # for input dim\n",
    "hidden_nodes = 64 # for hidden layer\n",
    "output_nodes = 1 # 0/1\n",
    "dropout = 0.2 # p=1 for all zeros\n",
    "activate_func = nn.ReLU()\n",
    "criterion = nn.BCEWithLogitsLoss()\n",
    "epochs = 150 \n",
    "batchSize = 256\n",
    "learning_rate = 0.0005\n",
    "device = torch.device(\"cuda:0\" if torch.cuda.is_available() else \"cpu\")\n",
    "print(device)"
   ]
  },
  {
   "cell_type": "code",
   "execution_count": 5,
   "id": "dc0a1d53-e105-4d6f-9c30-7b2b32da2604",
   "metadata": {},
   "outputs": [],
   "source": [
    "# train-test split\n",
    "X_train, X_test, Y_train, Y_test = train_test_split(train_x, train_y, test_size=test_split_ratio)"
   ]
  },
  {
   "cell_type": "code",
   "execution_count": 6,
   "id": "769dc45a-535f-4799-804b-973bd0327886",
   "metadata": {},
   "outputs": [
    {
     "name": "stdout",
     "output_type": "stream",
     "text": [
      "SVM is not selected\n"
     ]
    }
   ],
   "source": [
    "# SVM (8min)\n",
    "if(solution == 'SVM'):\n",
    "    model = make_pipeline(StandardScaler(),svm.SVC(**SVC_params))\n",
    "    model.fit(X_train,Y_train)\n",
    "    y_test_result = model.predict(X_test)\n",
    "    score = f1_score(Y_test, y_test_result)\n",
    "    print(\"f1 score = \",score)\n",
    "    if(score>0.5):\n",
    "        results = model.predict(predict_x)\n",
    "        pd.DataFrame(results).to_csv('sample_SVM.csv', index=False, header=False, float_format='%.0f')\n",
    "    else:\n",
    "        print(\"too poor performance\")\n",
    "else:\n",
    "    print(\"SVM is not selected\")"
   ]
  },
  {
   "cell_type": "code",
   "execution_count": 7,
   "id": "eed4aea9-2e72-4819-a545-ab4dd79ce0fc",
   "metadata": {},
   "outputs": [
    {
     "name": "stdout",
     "output_type": "stream",
     "text": [
      "MLP is not selected\n"
     ]
    }
   ],
   "source": [
    "# MLP: Multilayer Perceptron (2min)\n",
    "if(solution == 'MLP'):\n",
    "    # normalize data, because MLP is sensitive to feature scaling\n",
    "    scaler = StandardScaler()  \n",
    "    X_train = scaler.fit_transform(X_train)  \n",
    "    X_test = scaler.transform(X_test)\n",
    "    X_predict = scaler.transform(predict_x)\n",
    "    model = MLPClassifier(**MLP_params)\n",
    "    model.fit(X_train,Y_train)\n",
    "    y_test_result = model.predict(X_test)\n",
    "    score = f1_score(Y_test, y_test_result)\n",
    "    print(\"f1 score = \",score)\n",
    "    if(score>0.5):\n",
    "        results = model.predict(X_predict)\n",
    "        np.savetxt('sample_MLP.csv', results, delimiter=',', fmt='%i')\n",
    "    else:\n",
    "        print(\"too poor performance\")\n",
    "else:\n",
    "    print(\"MLP is not selected\")"
   ]
  },
  {
   "cell_type": "code",
   "execution_count": 8,
   "id": "78fa6b8b-dc47-4793-8e0c-d64631fb1d9f",
   "metadata": {},
   "outputs": [],
   "source": [
    "# Build a NN by pytorch\n",
    "# standard scaler\n",
    "scaler = StandardScaler()\n",
    "X_train = scaler.fit_transform(X_train)\n",
    "X_test = scaler.transform(X_test)\n",
    "X_predict = scaler.transform(predict_x)\n",
    "\n",
    "## define data structure\n",
    "class trainData(Dataset):\n",
    "    def __init__(self, X_data, y_data):\n",
    "        self.X_data = X_data\n",
    "        self.y_data = y_data\n",
    "    def __getitem__(self, index):\n",
    "        return self.X_data[index], self.y_data[index]\n",
    "    def __len__ (self):\n",
    "        return len(self.X_data)\n",
    "\n",
    "## test data    \n",
    "class testData(Dataset):\n",
    "    def __init__(self, X_data):\n",
    "        self.X_data = X_data\n",
    "    def __getitem__(self, index):\n",
    "        return self.X_data[index]\n",
    "    def __len__ (self):\n",
    "        return len(self.X_data)"
   ]
  },
  {
   "cell_type": "code",
   "execution_count": 9,
   "id": "60afa488-207f-42f8-8025-1016fdaa8b1d",
   "metadata": {},
   "outputs": [],
   "source": [
    "# package data for NN\n",
    "train_data = trainData(torch.FloatTensor(X_train), torch.FloatTensor(Y_train))\n",
    "test_data = testData(torch.FloatTensor(X_test))\n",
    "predict_data = testData(torch.FloatTensor(X_predict))"
   ]
  },
  {
   "cell_type": "code",
   "execution_count": 10,
   "id": "741ae42f-a718-463e-b3d2-2b9371a62233",
   "metadata": {},
   "outputs": [
    {
     "name": "stdout",
     "output_type": "stream",
     "text": [
      "[86219  3381]\n",
      "batch index 0, 0/1: 120/136\n",
      "batch index 1, 0/1: 138/118\n",
      "batch index 2, 0/1: 136/120\n",
      "batch index 3, 0/1: 128/128\n",
      "batch index 4, 0/1: 126/130\n",
      "batch index 5, 0/1: 126/130\n",
      "batch index 6, 0/1: 142/114\n",
      "batch index 7, 0/1: 114/142\n",
      "batch index 8, 0/1: 124/132\n",
      "batch index 9, 0/1: 123/133\n"
     ]
    }
   ],
   "source": [
    "# imbalanced sampling\n",
    "class_count = np.array([len(np.where(Y_train == t)[0]) for t in range(2)])    # return num of 0s and 1s\n",
    "weight = [zero_weight, 1.0/zero_weight]                                       # define weight for 0s and 1s\n",
    "samples_weight = np.array([weight[t] for t in Y_train])                       # give weight for EACH data sample\n",
    "samples_weight = torch.from_numpy(samples_weight).double()                    # turn to torch (double)\n",
    "Sampler = WeightedRandomSampler(samples_weight, len(samples_weight))\n",
    "# load data for each epoch\n",
    "train_loader = DataLoader(train_data, batch_size=batchSize, sampler=Sampler)\n",
    "test_loader = DataLoader(test_data)\n",
    "predict_loader = DataLoader(predict_data)\n",
    "# balanced data check\n",
    "print(class_count)\n",
    "for i, (data, label) in enumerate(train_loader):\n",
    "    if i > 9 : break # i = 0 ~ 9\n",
    "    print( \"batch index {}, 0/1: {}/{}\".format(i,len(np.where(label.numpy() == 0)[0]),len(np.where(label.numpy() == 1)[0])))"
   ]
  },
  {
   "cell_type": "code",
   "execution_count": 11,
   "id": "9c2f3f80-ef05-4713-a242-9878287ea4ef",
   "metadata": {},
   "outputs": [],
   "source": [
    "# build NN\n",
    "class binaryClassification(nn.Module):\n",
    "    def __init__(self):\n",
    "        super(binaryClassification, self).__init__()\n",
    "        self.layer_1 = nn.Linear(input_nodes, hidden_nodes) \n",
    "        self.layer_2 = nn.Linear(hidden_nodes, hidden_nodes)\n",
    "        self.layer_out = nn.Linear(hidden_nodes, output_nodes) \n",
    "        self.F = activate_func\n",
    "        self.dropout = nn.Dropout(p=dropout)\n",
    "        self.batchnorm = nn.BatchNorm1d(hidden_nodes)\n",
    "        \n",
    "    def forward(self, inputs):\n",
    "        x = self.F(self.layer_1(inputs))\n",
    "        x = self.batchnorm(x)\n",
    "        x = self.F(self.layer_2(x))\n",
    "        x = self.batchnorm(x)\n",
    "        x = self.dropout(x)\n",
    "        x = self.layer_out(x)\n",
    "        return x"
   ]
  },
  {
   "cell_type": "code",
   "execution_count": 15,
   "id": "bea9baf8-30ba-4cf8-9ecc-25682c993a39",
   "metadata": {},
   "outputs": [
    {
     "name": "stdout",
     "output_type": "stream",
     "text": [
      "Epoch 000: | Loss: 0.21622792 | F1_score: 0.920\n",
      "Epoch 001: | Loss: 0.06981066 | F1_score: 0.979\n",
      "Epoch 002: | Loss: 0.04646413 | F1_score: 0.986\n",
      "Epoch 003: | Loss: 0.03705940 | F1_score: 0.989\n",
      "Epoch 004: | Loss: 0.03291193 | F1_score: 0.991\n",
      "Epoch 005: | Loss: 0.02717069 | F1_score: 0.992\n",
      "Epoch 006: | Loss: 0.02507608 | F1_score: 0.993\n",
      "Epoch 007: | Loss: 0.02307484 | F1_score: 0.993\n",
      "Epoch 008: | Loss: 0.02060723 | F1_score: 0.994\n",
      "Epoch 009: | Loss: 0.01954998 | F1_score: 0.995\n",
      "Epoch 010: | Loss: 0.01775368 | F1_score: 0.995\n",
      "Epoch 011: | Loss: 0.01730847 | F1_score: 0.995\n",
      "Epoch 012: | Loss: 0.01679663 | F1_score: 0.995\n",
      "Epoch 013: | Loss: 0.01630706 | F1_score: 0.995\n",
      "Epoch 014: | Loss: 0.01443403 | F1_score: 0.996\n",
      "Epoch 015: | Loss: 0.01426485 | F1_score: 0.996\n",
      "Epoch 016: | Loss: 0.01363760 | F1_score: 0.996\n",
      "Epoch 017: | Loss: 0.01126288 | F1_score: 0.997\n",
      "Epoch 018: | Loss: 0.01165066 | F1_score: 0.996\n",
      "Epoch 019: | Loss: 0.01118116 | F1_score: 0.997\n",
      "Epoch 020: | Loss: 0.01077127 | F1_score: 0.997\n",
      "Epoch 021: | Loss: 0.01058750 | F1_score: 0.997\n",
      "Epoch 022: | Loss: 0.01021833 | F1_score: 0.997\n",
      "Epoch 023: | Loss: 0.00923187 | F1_score: 0.997\n",
      "Epoch 024: | Loss: 0.00894394 | F1_score: 0.997\n",
      "Epoch 025: | Loss: 0.00865459 | F1_score: 0.997\n",
      "Epoch 026: | Loss: 0.00891307 | F1_score: 0.997\n",
      "Epoch 027: | Loss: 0.00859317 | F1_score: 0.997\n",
      "Epoch 028: | Loss: 0.00861720 | F1_score: 0.997\n",
      "Epoch 029: | Loss: 0.00829807 | F1_score: 0.997\n",
      "Epoch 030: | Loss: 0.00792390 | F1_score: 0.998\n",
      "Epoch 031: | Loss: 0.00796713 | F1_score: 0.997\n",
      "Epoch 032: | Loss: 0.00700931 | F1_score: 0.998\n",
      "Epoch 033: | Loss: 0.00689459 | F1_score: 0.998\n",
      "Epoch 034: | Loss: 0.00710744 | F1_score: 0.998\n",
      "Epoch 035: | Loss: 0.00739381 | F1_score: 0.998\n",
      "Epoch 036: | Loss: 0.00756963 | F1_score: 0.998\n",
      "Epoch 037: | Loss: 0.00637859 | F1_score: 0.998\n",
      "Epoch 038: | Loss: 0.00587548 | F1_score: 0.998\n",
      "Epoch 039: | Loss: 0.00661890 | F1_score: 0.998\n",
      "Epoch 040: | Loss: 0.00535516 | F1_score: 0.998\n",
      "Epoch 041: | Loss: 0.00682652 | F1_score: 0.998\n",
      "Epoch 042: | Loss: 0.00646961 | F1_score: 0.998\n",
      "Epoch 043: | Loss: 0.00657381 | F1_score: 0.998\n",
      "Epoch 044: | Loss: 0.00581469 | F1_score: 0.998\n",
      "Epoch 045: | Loss: 0.00460606 | F1_score: 0.999\n",
      "Epoch 046: | Loss: 0.00592779 | F1_score: 0.998\n",
      "Epoch 047: | Loss: 0.00656343 | F1_score: 0.998\n",
      "Epoch 048: | Loss: 0.00550358 | F1_score: 0.998\n",
      "Epoch 049: | Loss: 0.00550179 | F1_score: 0.998\n",
      "Epoch 050: | Loss: 0.00516360 | F1_score: 0.998\n",
      "Epoch 051: | Loss: 0.00430270 | F1_score: 0.999\n",
      "Epoch 052: | Loss: 0.00528041 | F1_score: 0.998\n",
      "Epoch 053: | Loss: 0.00413907 | F1_score: 0.999\n",
      "Epoch 054: | Loss: 0.00353140 | F1_score: 0.999\n",
      "Epoch 055: | Loss: 0.00617800 | F1_score: 0.998\n",
      "Epoch 056: | Loss: 0.00443872 | F1_score: 0.999\n",
      "Epoch 057: | Loss: 0.00494981 | F1_score: 0.998\n",
      "Epoch 058: | Loss: 0.00520135 | F1_score: 0.998\n",
      "Epoch 059: | Loss: 0.00374970 | F1_score: 0.999\n",
      "Epoch 060: | Loss: 0.00452446 | F1_score: 0.999\n",
      "Epoch 061: | Loss: 0.00525228 | F1_score: 0.998\n",
      "Epoch 062: | Loss: 0.00483370 | F1_score: 0.998\n",
      "Epoch 063: | Loss: 0.00441301 | F1_score: 0.999\n",
      "Epoch 064: | Loss: 0.00375366 | F1_score: 0.999\n",
      "Epoch 065: | Loss: 0.00393039 | F1_score: 0.999\n",
      "Epoch 066: | Loss: 0.00355539 | F1_score: 0.999\n",
      "Epoch 067: | Loss: 0.00327358 | F1_score: 0.999\n",
      "Epoch 068: | Loss: 0.00371034 | F1_score: 0.999\n",
      "Epoch 069: | Loss: 0.00477632 | F1_score: 0.998\n",
      "Epoch 070: | Loss: 0.00484051 | F1_score: 0.998\n",
      "Epoch 071: | Loss: 0.00373449 | F1_score: 0.999\n",
      "Epoch 072: | Loss: 0.00337719 | F1_score: 0.999\n",
      "Epoch 073: | Loss: 0.00361071 | F1_score: 0.999\n",
      "Epoch 074: | Loss: 0.00331487 | F1_score: 0.999\n",
      "Epoch 075: | Loss: 0.00331690 | F1_score: 0.999\n",
      "Epoch 076: | Loss: 0.00395408 | F1_score: 0.999\n",
      "Epoch 077: | Loss: 0.00333069 | F1_score: 0.999\n",
      "Epoch 078: | Loss: 0.00375599 | F1_score: 0.999\n",
      "Epoch 079: | Loss: 0.00467468 | F1_score: 0.998\n",
      "Epoch 080: | Loss: 0.00327875 | F1_score: 0.999\n",
      "Epoch 081: | Loss: 0.00383553 | F1_score: 0.999\n",
      "Epoch 082: | Loss: 0.00304797 | F1_score: 0.999\n",
      "Epoch 083: | Loss: 0.00361927 | F1_score: 0.999\n",
      "Epoch 084: | Loss: 0.00372503 | F1_score: 0.999\n",
      "Epoch 085: | Loss: 0.00381214 | F1_score: 0.999\n",
      "Epoch 086: | Loss: 0.00392328 | F1_score: 0.999\n",
      "Epoch 087: | Loss: 0.00269928 | F1_score: 0.999\n",
      "Epoch 088: | Loss: 0.00328390 | F1_score: 0.999\n",
      "Epoch 089: | Loss: 0.00201537 | F1_score: 0.999\n",
      "Epoch 090: | Loss: 0.00353319 | F1_score: 0.999\n",
      "Epoch 091: | Loss: 0.00272181 | F1_score: 0.999\n",
      "Epoch 092: | Loss: 0.00277988 | F1_score: 0.999\n",
      "Epoch 093: | Loss: 0.00374778 | F1_score: 0.999\n",
      "Epoch 094: | Loss: 0.00338556 | F1_score: 0.999\n",
      "Epoch 095: | Loss: 0.00329857 | F1_score: 0.999\n",
      "Epoch 096: | Loss: 0.00342635 | F1_score: 0.999\n",
      "Epoch 097: | Loss: 0.00292713 | F1_score: 0.999\n",
      "Epoch 098: | Loss: 0.00291125 | F1_score: 0.999\n",
      "Epoch 099: | Loss: 0.00292584 | F1_score: 0.999\n",
      "Epoch 100: | Loss: 0.00292861 | F1_score: 0.999\n",
      "Epoch 101: | Loss: 0.00354977 | F1_score: 0.999\n",
      "Epoch 102: | Loss: 0.00370978 | F1_score: 0.999\n",
      "Epoch 103: | Loss: 0.00254590 | F1_score: 0.999\n",
      "Epoch 104: | Loss: 0.00269411 | F1_score: 0.999\n",
      "Epoch 105: | Loss: 0.00331528 | F1_score: 0.999\n",
      "Epoch 106: | Loss: 0.00234838 | F1_score: 0.999\n",
      "Epoch 107: | Loss: 0.00338450 | F1_score: 0.999\n",
      "Epoch 108: | Loss: 0.00296605 | F1_score: 0.999\n",
      "Epoch 109: | Loss: 0.00220488 | F1_score: 0.999\n",
      "Epoch 110: | Loss: 0.00238933 | F1_score: 0.999\n",
      "Epoch 111: | Loss: 0.00319237 | F1_score: 0.999\n",
      "Epoch 112: | Loss: 0.00236540 | F1_score: 0.999\n",
      "Epoch 113: | Loss: 0.00196395 | F1_score: 0.999\n",
      "Epoch 114: | Loss: 0.00276988 | F1_score: 0.999\n",
      "Epoch 115: | Loss: 0.00291561 | F1_score: 0.999\n",
      "Epoch 116: | Loss: 0.00271969 | F1_score: 0.999\n",
      "Epoch 117: | Loss: 0.00239276 | F1_score: 0.999\n",
      "Epoch 118: | Loss: 0.00363633 | F1_score: 0.999\n",
      "Epoch 119: | Loss: 0.00253373 | F1_score: 0.999\n",
      "Epoch 120: | Loss: 0.00271585 | F1_score: 0.999\n",
      "Epoch 121: | Loss: 0.00275295 | F1_score: 0.999\n",
      "Epoch 122: | Loss: 0.00221805 | F1_score: 0.999\n",
      "Epoch 123: | Loss: 0.00267422 | F1_score: 0.999\n",
      "Epoch 124: | Loss: 0.00257253 | F1_score: 0.999\n",
      "Epoch 125: | Loss: 0.00211204 | F1_score: 0.999\n",
      "Epoch 126: | Loss: 0.00175614 | F1_score: 0.999\n",
      "Epoch 127: | Loss: 0.00244750 | F1_score: 0.999\n",
      "Epoch 128: | Loss: 0.00287203 | F1_score: 0.999\n",
      "Epoch 129: | Loss: 0.00276432 | F1_score: 0.999\n",
      "Epoch 130: | Loss: 0.00159203 | F1_score: 0.999\n",
      "Epoch 131: | Loss: 0.00292726 | F1_score: 0.999\n",
      "Epoch 132: | Loss: 0.00201389 | F1_score: 0.999\n",
      "Epoch 133: | Loss: 0.00207376 | F1_score: 0.999\n",
      "Epoch 134: | Loss: 0.00215127 | F1_score: 0.999\n",
      "Epoch 135: | Loss: 0.00213215 | F1_score: 0.999\n",
      "Epoch 136: | Loss: 0.00283670 | F1_score: 0.999\n",
      "Epoch 137: | Loss: 0.00254613 | F1_score: 0.999\n",
      "Epoch 138: | Loss: 0.00196297 | F1_score: 0.999\n",
      "Epoch 139: | Loss: 0.00287150 | F1_score: 0.999\n",
      "Epoch 140: | Loss: 0.00248855 | F1_score: 0.999\n",
      "Epoch 141: | Loss: 0.00240866 | F1_score: 0.999\n",
      "Epoch 142: | Loss: 0.00223392 | F1_score: 0.999\n",
      "Epoch 143: | Loss: 0.00144459 | F1_score: 1.000\n",
      "Epoch 144: | Loss: 0.00137982 | F1_score: 1.000\n",
      "Epoch 145: | Loss: 0.00233840 | F1_score: 0.999\n",
      "Epoch 146: | Loss: 0.00208767 | F1_score: 0.999\n",
      "Epoch 147: | Loss: 0.00142635 | F1_score: 1.000\n",
      "Epoch 148: | Loss: 0.00230253 | F1_score: 0.999\n",
      "Epoch 149: | Loss: 0.00315691 | F1_score: 0.999\n"
     ]
    }
   ],
   "source": [
    "# start training\n",
    "model = binaryClassification().to(device)\n",
    "optimizer = optim.Adam(model.parameters(), lr=learning_rate)\n",
    "model.train()\n",
    "for e in range(epochs):\n",
    "    epoch_loss = 0\n",
    "    f1_avg = 0\n",
    "    i = 0\n",
    "    for X_batch, y_batch in train_loader:\n",
    "        X_batch, y_batch = X_batch.to(device), y_batch.to(device)\n",
    "        optimizer.zero_grad()\n",
    "        y_pred = model(X_batch).squeeze() #torch.Size([128,1])---squeeze()--->torch.Size([128]), match y_batch\n",
    "        loss = criterion(y_pred, y_batch)\n",
    "        y_pred = torch.round(torch.sigmoid(y_pred)) # turn output to 0/1\n",
    "        f1 = f1_score(y_batch.cpu().detach().numpy(), y_pred.cpu().detach().numpy())\n",
    "        loss.backward()\n",
    "        optimizer.step()\n",
    "        epoch_loss += loss.item()\n",
    "        f1_avg += f1\n",
    "    print(f'Epoch {e+0:03}: | Loss: {epoch_loss/len(train_loader):.8f} | F1_score: {f1_avg/len(train_loader):.3f}')"
   ]
  },
  {
   "cell_type": "code",
   "execution_count": 16,
   "id": "484bf822-a775-450a-af37-df8f3213c698",
   "metadata": {},
   "outputs": [
    {
     "data": {
      "text/plain": [
       "0.6334355828220859"
      ]
     },
     "execution_count": 16,
     "metadata": {},
     "output_type": "execute_result"
    }
   ],
   "source": [
    "# test result\n",
    "y_test_list = []\n",
    "model.eval()\n",
    "with torch.no_grad():\n",
    "    for X_batch in test_loader:\n",
    "        X_batch = X_batch.to(device)\n",
    "        y_test_pred = model(X_batch)\n",
    "        y_test_tag = torch.round(torch.sigmoid(y_test_pred))\n",
    "        y_test_list.append(y_test_tag.int().item()) \n",
    "f1_score(Y_test,np.array(y_test_list))"
   ]
  },
  {
   "cell_type": "code",
   "execution_count": 19,
   "id": "2db25d19-8503-4db4-be39-22f2b157bdee",
   "metadata": {},
   "outputs": [],
   "source": [
    "y_predict_list = []\n",
    "model.eval()\n",
    "with torch.no_grad():\n",
    "    for X_batch in predict_loader:\n",
    "        X_batch = X_batch.to(device)\n",
    "        y_predict_pred = model(X_batch)\n",
    "        y_predict_tag = torch.round(torch.sigmoid(y_predict_pred))\n",
    "        y_predict_list.append(y_predict_tag.int().item())\n",
    "pd.DataFrame(np.array(y_predict_list)).to_csv('sample_NN.csv', index=False, header=False, float_format='%.0f')"
   ]
  },
  {
   "cell_type": "code",
   "execution_count": 27,
   "id": "9453a0dd-456e-425a-a5c1-db2f1c276a5d",
   "metadata": {},
   "outputs": [
    {
     "data": {
      "text/plain": [
       "131.76470588235293"
      ]
     },
     "execution_count": 27,
     "metadata": {},
     "output_type": "execute_result"
    }
   ],
   "source": [
    "85/3*2"
   ]
  },
  {
   "cell_type": "code",
   "execution_count": null,
   "id": "97b1ce67-5e11-4349-9964-42d1f7207a64",
   "metadata": {},
   "outputs": [],
   "source": [
    "hidden layer: 样本数/（输入+输出）/alpha\n",
    "隐藏神经元的数量应在输入层的大小和输出层的大小之间。\n",
    "隐藏神经元的数量应为输入层大小的2/3加上输出层大小的2/3。\n",
    "隐藏神经元的数量应小于输入层大小的两倍。\n",
    "batchsize： 尽量大 for batchnorm\n",
    "dropout\n",
    "relu\n",
    "epoch(early stop)\n",
    "这个NN调崩了他妈的\n",
    "看solution_NN吧"
   ]
  }
 ],
 "metadata": {
  "kernelspec": {
   "display_name": "Python 3",
   "language": "python",
   "name": "python3"
  },
  "language_info": {
   "codemirror_mode": {
    "name": "ipython",
    "version": 3
   },
   "file_extension": ".py",
   "mimetype": "text/x-python",
   "name": "python",
   "nbconvert_exporter": "python",
   "pygments_lexer": "ipython3",
   "version": "3.8.8"
  }
 },
 "nbformat": 4,
 "nbformat_minor": 5
}
